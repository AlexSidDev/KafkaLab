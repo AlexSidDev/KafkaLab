{
 "cells": [
  {
   "cell_type": "code",
   "execution_count": 1,
   "id": "b64c960a-1f5f-4495-af4b-71570db68942",
   "metadata": {},
   "outputs": [],
   "source": [
    "import pandas as pd\n",
    "import numpy as np\n",
    "import matplotlib.pyplot as plt\n",
    "import warnings\n",
    "\n",
    "warnings.filterwarnings('ignore')"
   ]
  },
  {
   "cell_type": "markdown",
   "id": "f879a030-936f-40fa-a29f-8700cadafa15",
   "metadata": {},
   "source": [
    "## Loading and basic information"
   ]
  },
  {
   "cell_type": "code",
   "execution_count": 9,
   "id": "9bc393a5-6dd4-477b-a035-655195b3c437",
   "metadata": {},
   "outputs": [],
   "source": [
    "def process_sample(sample: str):\n",
    "    lines = sample.split('\\n')\n",
    "    words = []\n",
    "    ner_labels = []\n",
    "    for line in lines:\n",
    "        split_line = line.split(' ')\n",
    "        words.append(split_line[0])\n",
    "        ner_labels.append(split_line[-1])\n",
    "    return {'words': words, 'labels': ner_labels}"
   ]
  },
  {
   "cell_type": "code",
   "execution_count": 10,
   "id": "cc1049bd-ab4c-495f-a146-d6c6fd265f7e",
   "metadata": {},
   "outputs": [
    {
     "data": {
      "text/html": [
       "<div>\n",
       "<style scoped>\n",
       "    .dataframe tbody tr th:only-of-type {\n",
       "        vertical-align: middle;\n",
       "    }\n",
       "\n",
       "    .dataframe tbody tr th {\n",
       "        vertical-align: top;\n",
       "    }\n",
       "\n",
       "    .dataframe thead th {\n",
       "        text-align: right;\n",
       "    }\n",
       "</style>\n",
       "<table border=\"1\" class=\"dataframe\">\n",
       "  <thead>\n",
       "    <tr style=\"text-align: right;\">\n",
       "      <th></th>\n",
       "      <th>words</th>\n",
       "      <th>labels</th>\n",
       "    </tr>\n",
       "  </thead>\n",
       "  <tbody>\n",
       "    <tr>\n",
       "      <th>0</th>\n",
       "      <td>[EU, rejects, German, call, to, boycott, Briti...</td>\n",
       "      <td>[B-ORG, O, B-MISC, O, O, O, B-MISC, O, O]</td>\n",
       "    </tr>\n",
       "    <tr>\n",
       "      <th>1</th>\n",
       "      <td>[Peter, Blackburn]</td>\n",
       "      <td>[B-PER, I-PER]</td>\n",
       "    </tr>\n",
       "    <tr>\n",
       "      <th>2</th>\n",
       "      <td>[BRUSSELS, 1996-08-22]</td>\n",
       "      <td>[B-LOC, O]</td>\n",
       "    </tr>\n",
       "    <tr>\n",
       "      <th>3</th>\n",
       "      <td>[The, European, Commission, said, on, Thursday...</td>\n",
       "      <td>[O, B-ORG, I-ORG, O, O, O, O, O, O, B-MISC, O,...</td>\n",
       "    </tr>\n",
       "    <tr>\n",
       "      <th>4</th>\n",
       "      <td>[Germany, 's, representative, to, the, Europea...</td>\n",
       "      <td>[B-LOC, O, O, O, O, B-ORG, I-ORG, O, O, O, B-P...</td>\n",
       "    </tr>\n",
       "  </tbody>\n",
       "</table>\n",
       "</div>"
      ],
      "text/plain": [
       "                                               words  \\\n",
       "0  [EU, rejects, German, call, to, boycott, Briti...   \n",
       "1                                 [Peter, Blackburn]   \n",
       "2                             [BRUSSELS, 1996-08-22]   \n",
       "3  [The, European, Commission, said, on, Thursday...   \n",
       "4  [Germany, 's, representative, to, the, Europea...   \n",
       "\n",
       "                                              labels  \n",
       "0          [B-ORG, O, B-MISC, O, O, O, B-MISC, O, O]  \n",
       "1                                     [B-PER, I-PER]  \n",
       "2                                         [B-LOC, O]  \n",
       "3  [O, B-ORG, I-ORG, O, O, O, O, O, O, B-MISC, O,...  \n",
       "4  [B-LOC, O, O, O, O, B-ORG, I-ORG, O, O, O, B-P...  "
      ]
     },
     "execution_count": 10,
     "metadata": {},
     "output_type": "execute_result"
    }
   ],
   "source": [
    "data_path = 'data/train.txt'\n",
    "with open(data_path, 'r') as fin:\n",
    "    data = fin.read().split('\\n\\n')\n",
    "\n",
    "processed_samples = []\n",
    "for doc in data:\n",
    "    if doc.startswith('-DOCSTART-'):\n",
    "            continue\n",
    "    red_sample = process_sample(doc)\n",
    "    processed_samples.append(red_sample)\n",
    "\n",
    "data = pd.DataFrame(processed_samples, columns=['words', 'labels'])\n",
    "data.head()"
   ]
  },
  {
   "cell_type": "code",
   "execution_count": 11,
   "id": "82566ccb-e0d7-46c5-ae00-43b28883fceb",
   "metadata": {},
   "outputs": [
    {
     "name": "stdout",
     "output_type": "stream",
     "text": [
      "Data: Number of rows: 14042, number of columns: 2\n"
     ]
    }
   ],
   "source": [
    "template = 'Number of rows: {}, number of columns: {}'\n",
    "print('Data:', template.format(len(data.index), len(data.columns)))"
   ]
  },
  {
   "cell_type": "markdown",
   "id": "8b8c055c-32d9-4b91-9809-6be3e8d82c15",
   "metadata": {},
   "source": [
    "## Quantity analisys"
   ]
  },
  {
   "cell_type": "code",
   "execution_count": 16,
   "id": "13efe240-91a4-45fd-9664-8b87a86b7544",
   "metadata": {},
   "outputs": [],
   "source": [
    "class_labels = ['MISC', 'PER', 'ORG', 'LOC', 'Background']"
   ]
  },
  {
   "cell_type": "code",
   "execution_count": 17,
   "id": "7b25924a-88d8-4460-858d-6247fd7d2f9f",
   "metadata": {},
   "outputs": [],
   "source": [
    "def find_labels(labels: list):\n",
    "    labels_count = [0] * len(class_labels)\n",
    "    for token in labels:\n",
    "        if token.startswith('B-') or token.startswith('I-'):\n",
    "            class_name = token[2:]\n",
    "            class_index = class_labels.index(class_name)\n",
    "            labels_count[class_index] += 1\n",
    "        elif token == 'O':\n",
    "            labels_count[-1] += 1\n",
    "    return labels_count"
   ]
  },
  {
   "cell_type": "code",
   "execution_count": 18,
   "id": "a30b1638-a5d5-402d-87af-fcaa90906768",
   "metadata": {},
   "outputs": [
    {
     "data": {
      "text/plain": [
       "MISC            4593\n",
       "PER            11128\n",
       "ORG            10025\n",
       "LOC             8297\n",
       "Background    169578\n",
       "dtype: int64"
      ]
     },
     "execution_count": 18,
     "metadata": {},
     "output_type": "execute_result"
    }
   ],
   "source": [
    "class_counts = data['labels'].map(find_labels)\n",
    "class_counts = pd.DataFrame(np.array(class_counts.to_list()), columns=class_labels)\n",
    "class_counts = class_counts.sum()\n",
    "class_counts"
   ]
  },
  {
   "cell_type": "markdown",
   "id": "0acfa19e-c865-48c9-afb2-8bdc25708742",
   "metadata": {},
   "source": [
    "### As we can see, we have a huge class disbalance (most tokens are non-labeled)"
   ]
  },
  {
   "cell_type": "markdown",
   "id": "2b5080fc-0d1f-45cc-8069-ea5f3b763e81",
   "metadata": {},
   "source": [
    "### Let's look at distribution of labeled tokens"
   ]
  },
  {
   "cell_type": "code",
   "execution_count": 19,
   "id": "ad9be0c7-3dd6-4f49-aff7-862928d1b51a",
   "metadata": {},
   "outputs": [
    {
     "data": {
      "image/png": "[encoded data removed]",
      "text/plain": [
       "<Figure size 1500x500 with 1 Axes>"
      ]
     },
     "metadata": {},
     "output_type": "display_data"
    }
   ],
   "source": [
    "plt.figure(figsize=(15, 5))\n",
    "plt.hist(class_labels[:-1], weights=class_counts[:-1])\n",
    "None"
   ]
  },
  {
   "cell_type": "markdown",
   "id": "9989c46d-8948-484c-b51e-7d97ced2b82a",
   "metadata": {},
   "source": [
    "### We haven'thuge disbalance in a labeled data"
   ]
  },
  {
   "cell_type": "markdown",
   "id": "24c86afb-9444-44f6-a631-77729fb7ded2",
   "metadata": {},
   "source": [
    "### Let's look at lengths of texts"
   ]
  },
  {
   "cell_type": "code",
   "execution_count": 21,
   "id": "e1be2464-1af7-4d8c-ad7f-ebcb9592db84",
   "metadata": {},
   "outputs": [
    {
     "data": {
      "text/plain": [
       "count    14042.000000\n",
       "mean        14.500926\n",
       "std         11.602902\n",
       "min          1.000000\n",
       "25%          6.000000\n",
       "50%         10.000000\n",
       "75%         22.000000\n",
       "max        113.000000\n",
       "Name: words, dtype: float64"
      ]
     },
     "execution_count": 21,
     "metadata": {},
     "output_type": "execute_result"
    }
   ],
   "source": [
    "text_lens = data[\"labels\"].map(len)\n",
    "text_lens.describe()"
   ]
  },
  {
   "cell_type": "markdown",
   "id": "eaf39de9-a286-4823-af34-b3bfb1fddb72",
   "metadata": {},
   "source": [
    "### We have a small texts that can be easy to process for all base models, such as BERT"
   ]
  },
  {
   "cell_type": "markdown",
   "id": "ccccdde8-9eb3-4cdf-9d4d-24935b9699f5",
   "metadata": {},
   "source": []
  }
 ],
 "metadata": {
  "kernelspec": {
   "display_name": "Python 3 (ipykernel)",
   "language": "python",
   "name": "python3"
  },
  "language_info": {
   "codemirror_mode": {
    "name": "ipython",
    "version": 3
   },
   "file_extension": ".py",
   "mimetype": "text/x-python",
   "name": "python",
   "nbconvert_exporter": "python",
   "pygments_lexer": "ipython3",
   "version": "3.10.5"
  }
 },
 "nbformat": 4,
 "nbformat_minor": 5
}
